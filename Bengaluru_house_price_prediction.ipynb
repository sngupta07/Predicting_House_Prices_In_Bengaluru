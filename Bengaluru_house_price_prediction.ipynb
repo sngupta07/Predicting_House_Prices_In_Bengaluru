{
 "cells": [
  {
   "cell_type": "markdown",
   "metadata": {},
   "source": [
    "## Predicting House Prices In Bengaluru ([Machine Hack](https://www.machinehack.com/course/predicting-house-prices-in-bengaluru/)]"
   ]
  },
  {
   "cell_type": "markdown",
   "metadata": {},
   "source": [
    "##### The train and test data will consist of various features that describe that property in Bengaluru. This is an actual data set that is curated over months of primary & secondary research by our team. Each row contains fixed size object of features. There are 9 features and each feature can be accessed by its name.\n",
    "\n",
    "##### Features\n",
    "\n",
    "    Area_type – describes the area\n",
    "    Availability – when it can be possessed or when it is ready(categorical and time-series)\n",
    "    Location – where it is located in Bengaluru\n",
    "    Price – Value of the property in lakhs(INR)\n",
    "    Size – in BHK or Bedroom (1-10 or more)\n",
    "    Society – to which society it belongs\n",
    "    Total_sqft – size of the property in sq.ft\n",
    "    Bath – No. of bathrooms\n",
    "    Balcony – No. of the balcony\n",
    "\n",
    "##### Problem Statement\n",
    "\n",
    "With the given 9 features(categorical and continuous) build a model to predict the price of houses in Bengaluru."
   ]
  },
  {
   "cell_type": "markdown",
   "metadata": {},
   "source": [
    "### I ran all the code in anaconda jupyter notebook"
   ]
  },
  {
   "cell_type": "markdown",
   "metadata": {},
   "source": [
    "#### Dependencies used\n",
    "    1. Numpy\n",
    "    2. Pandas\n",
    "    3. Matplotlib\n",
    "    4. Seaborn\n",
    "    5. Scikit-learn\n",
    "    6. Catboost\n",
    "    7. Collections\n",
    "    8. Scipy\n",
    "    9. Statsmodels"
   ]
  },
  {
   "cell_type": "markdown",
   "metadata": {},
   "source": [
    "## Note:\n",
    "###### Here, I changed the Price and Total_sqft feature to the logrithmic form. So, after doing all the modeling you should change the logrithmic form Price and Total_sqft to exponential form like np.exp(prediction) "
   ]
  },
  {
   "cell_type": "markdown",
   "metadata": {},
   "source": [
    "##### Install Catboost"
   ]
  },
  {
   "cell_type": "code",
   "execution_count": null,
   "metadata": {},
   "outputs": [],
   "source": [
    "!pip install catboost"
   ]
  },
  {
   "cell_type": "markdown",
   "metadata": {},
   "source": [
    "#### Import dependencies"
   ]
  },
  {
   "cell_type": "code",
   "execution_count": 1,
   "metadata": {},
   "outputs": [],
   "source": [
    "import numpy as np\n",
    "import pandas as pd\n",
    "import matplotlib.pyplot as plt\n",
    "import seaborn as sns\n",
    "from collections import Counter"
   ]
  },
  {
   "cell_type": "code",
   "execution_count": 2,
   "metadata": {},
   "outputs": [
    {
     "name": "stderr",
     "output_type": "stream",
     "text": [
      "C:\\Users\\sngupta\\Anaconda3\\lib\\site-packages\\statsmodels\\compat\\pandas.py:56: FutureWarning: The pandas.core.datetools module is deprecated and will be removed in a future version. Please use the pandas.tseries module instead.\n",
      "  from pandas.core import datetools\n"
     ]
    }
   ],
   "source": [
    "import scipy.stats as st\n",
    "import statsmodels.api as sm"
   ]
  },
  {
   "cell_type": "code",
   "execution_count": 3,
   "metadata": {},
   "outputs": [],
   "source": [
    "%matplotlib inline"
   ]
  },
  {
   "cell_type": "code",
   "execution_count": 4,
   "metadata": {},
   "outputs": [],
   "source": [
    "import warnings\n",
    "warnings.filterwarnings('ignore')"
   ]
  },
  {
   "cell_type": "code",
   "execution_count": 5,
   "metadata": {},
   "outputs": [],
   "source": [
    "plt.rcParams['figure.figsize']= (15, 12)\n",
    "plt.style.use('ggplot')\n",
    "sns.set(style= 'darkgrid', color_codes= True)"
   ]
  },
  {
   "cell_type": "markdown",
   "metadata": {},
   "source": [
    "#### Read data"
   ]
  },
  {
   "cell_type": "code",
   "execution_count": 6,
   "metadata": {},
   "outputs": [],
   "source": [
    "train= pd.read_csv('Predicting-House-Prices-In-Bengaluru-Train-Data.csv')\n",
    "test= pd.read_csv('Predicting-House-Prices-In-Bengaluru-Test-Data.csv')\n",
    "samp= pd.read_excel('House_-Sample_Submission.xlsx')"
   ]
  },
  {
   "cell_type": "code",
   "execution_count": 7,
   "metadata": {
    "scrolled": true
   },
   "outputs": [
    {
     "data": {
      "text/html": [
       "<div>\n",
       "<style scoped>\n",
       "    .dataframe tbody tr th:only-of-type {\n",
       "        vertical-align: middle;\n",
       "    }\n",
       "\n",
       "    .dataframe tbody tr th {\n",
       "        vertical-align: top;\n",
       "    }\n",
       "\n",
       "    .dataframe thead th {\n",
       "        text-align: right;\n",
       "    }\n",
       "</style>\n",
       "<table border=\"1\" class=\"dataframe\">\n",
       "  <thead>\n",
       "    <tr style=\"text-align: right;\">\n",
       "      <th></th>\n",
       "      <th>area_type</th>\n",
       "      <th>availability</th>\n",
       "      <th>location</th>\n",
       "      <th>size</th>\n",
       "      <th>society</th>\n",
       "      <th>total_sqft</th>\n",
       "      <th>bath</th>\n",
       "      <th>balcony</th>\n",
       "      <th>price</th>\n",
       "    </tr>\n",
       "  </thead>\n",
       "  <tbody>\n",
       "    <tr>\n",
       "      <th>0</th>\n",
       "      <td>Super built-up  Area</td>\n",
       "      <td>19-Dec</td>\n",
       "      <td>Electronic City Phase II</td>\n",
       "      <td>2 BHK</td>\n",
       "      <td>Coomee</td>\n",
       "      <td>1056</td>\n",
       "      <td>2.0</td>\n",
       "      <td>1.0</td>\n",
       "      <td>39.07</td>\n",
       "    </tr>\n",
       "    <tr>\n",
       "      <th>1</th>\n",
       "      <td>Plot  Area</td>\n",
       "      <td>Ready To Move</td>\n",
       "      <td>Chikka Tirupathi</td>\n",
       "      <td>4 Bedroom</td>\n",
       "      <td>Theanmp</td>\n",
       "      <td>2600</td>\n",
       "      <td>5.0</td>\n",
       "      <td>3.0</td>\n",
       "      <td>120.00</td>\n",
       "    </tr>\n",
       "    <tr>\n",
       "      <th>2</th>\n",
       "      <td>Built-up  Area</td>\n",
       "      <td>Ready To Move</td>\n",
       "      <td>Uttarahalli</td>\n",
       "      <td>3 BHK</td>\n",
       "      <td>NaN</td>\n",
       "      <td>1440</td>\n",
       "      <td>2.0</td>\n",
       "      <td>3.0</td>\n",
       "      <td>62.00</td>\n",
       "    </tr>\n",
       "    <tr>\n",
       "      <th>3</th>\n",
       "      <td>Super built-up  Area</td>\n",
       "      <td>Ready To Move</td>\n",
       "      <td>Lingadheeranahalli</td>\n",
       "      <td>3 BHK</td>\n",
       "      <td>Soiewre</td>\n",
       "      <td>1521</td>\n",
       "      <td>3.0</td>\n",
       "      <td>1.0</td>\n",
       "      <td>95.00</td>\n",
       "    </tr>\n",
       "    <tr>\n",
       "      <th>4</th>\n",
       "      <td>Super built-up  Area</td>\n",
       "      <td>Ready To Move</td>\n",
       "      <td>Kothanur</td>\n",
       "      <td>2 BHK</td>\n",
       "      <td>NaN</td>\n",
       "      <td>1200</td>\n",
       "      <td>2.0</td>\n",
       "      <td>1.0</td>\n",
       "      <td>51.00</td>\n",
       "    </tr>\n",
       "  </tbody>\n",
       "</table>\n",
       "</div>"
      ],
      "text/plain": [
       "              area_type   availability                  location       size  \\\n",
       "0  Super built-up  Area         19-Dec  Electronic City Phase II      2 BHK   \n",
       "1            Plot  Area  Ready To Move          Chikka Tirupathi  4 Bedroom   \n",
       "2        Built-up  Area  Ready To Move               Uttarahalli      3 BHK   \n",
       "3  Super built-up  Area  Ready To Move        Lingadheeranahalli      3 BHK   \n",
       "4  Super built-up  Area  Ready To Move                  Kothanur      2 BHK   \n",
       "\n",
       "   society total_sqft  bath  balcony   price  \n",
       "0  Coomee        1056   2.0      1.0   39.07  \n",
       "1  Theanmp       2600   5.0      3.0  120.00  \n",
       "2      NaN       1440   2.0      3.0   62.00  \n",
       "3  Soiewre       1521   3.0      1.0   95.00  \n",
       "4      NaN       1200   2.0      1.0   51.00  "
      ]
     },
     "execution_count": 7,
     "metadata": {},
     "output_type": "execute_result"
    }
   ],
   "source": [
    "train.head()"
   ]
  },
  {
   "cell_type": "code",
   "execution_count": 8,
   "metadata": {},
   "outputs": [
    {
     "data": {
      "text/html": [
       "<div>\n",
       "<style scoped>\n",
       "    .dataframe tbody tr th:only-of-type {\n",
       "        vertical-align: middle;\n",
       "    }\n",
       "\n",
       "    .dataframe tbody tr th {\n",
       "        vertical-align: top;\n",
       "    }\n",
       "\n",
       "    .dataframe thead th {\n",
       "        text-align: right;\n",
       "    }\n",
       "</style>\n",
       "<table border=\"1\" class=\"dataframe\">\n",
       "  <thead>\n",
       "    <tr style=\"text-align: right;\">\n",
       "      <th></th>\n",
       "      <th>bath</th>\n",
       "      <th>balcony</th>\n",
       "      <th>price</th>\n",
       "    </tr>\n",
       "  </thead>\n",
       "  <tbody>\n",
       "    <tr>\n",
       "      <th>count</th>\n",
       "      <td>13247.000000</td>\n",
       "      <td>12711.000000</td>\n",
       "      <td>13320.000000</td>\n",
       "    </tr>\n",
       "    <tr>\n",
       "      <th>mean</th>\n",
       "      <td>2.692610</td>\n",
       "      <td>1.584376</td>\n",
       "      <td>112.565627</td>\n",
       "    </tr>\n",
       "    <tr>\n",
       "      <th>std</th>\n",
       "      <td>1.341458</td>\n",
       "      <td>0.817263</td>\n",
       "      <td>148.971674</td>\n",
       "    </tr>\n",
       "    <tr>\n",
       "      <th>min</th>\n",
       "      <td>1.000000</td>\n",
       "      <td>0.000000</td>\n",
       "      <td>8.000000</td>\n",
       "    </tr>\n",
       "    <tr>\n",
       "      <th>25%</th>\n",
       "      <td>2.000000</td>\n",
       "      <td>1.000000</td>\n",
       "      <td>50.000000</td>\n",
       "    </tr>\n",
       "    <tr>\n",
       "      <th>50%</th>\n",
       "      <td>2.000000</td>\n",
       "      <td>2.000000</td>\n",
       "      <td>72.000000</td>\n",
       "    </tr>\n",
       "    <tr>\n",
       "      <th>75%</th>\n",
       "      <td>3.000000</td>\n",
       "      <td>2.000000</td>\n",
       "      <td>120.000000</td>\n",
       "    </tr>\n",
       "    <tr>\n",
       "      <th>max</th>\n",
       "      <td>40.000000</td>\n",
       "      <td>3.000000</td>\n",
       "      <td>3600.000000</td>\n",
       "    </tr>\n",
       "  </tbody>\n",
       "</table>\n",
       "</div>"
      ],
      "text/plain": [
       "               bath       balcony         price\n",
       "count  13247.000000  12711.000000  13320.000000\n",
       "mean       2.692610      1.584376    112.565627\n",
       "std        1.341458      0.817263    148.971674\n",
       "min        1.000000      0.000000      8.000000\n",
       "25%        2.000000      1.000000     50.000000\n",
       "50%        2.000000      2.000000     72.000000\n",
       "75%        3.000000      2.000000    120.000000\n",
       "max       40.000000      3.000000   3600.000000"
      ]
     },
     "execution_count": 8,
     "metadata": {},
     "output_type": "execute_result"
    }
   ],
   "source": [
    "train.describe()"
   ]
  },
  {
   "cell_type": "code",
   "execution_count": 9,
   "metadata": {},
   "outputs": [
    {
     "data": {
      "text/html": [
       "<div>\n",
       "<style scoped>\n",
       "    .dataframe tbody tr th:only-of-type {\n",
       "        vertical-align: middle;\n",
       "    }\n",
       "\n",
       "    .dataframe tbody tr th {\n",
       "        vertical-align: top;\n",
       "    }\n",
       "\n",
       "    .dataframe thead th {\n",
       "        text-align: right;\n",
       "    }\n",
       "</style>\n",
       "<table border=\"1\" class=\"dataframe\">\n",
       "  <thead>\n",
       "    <tr style=\"text-align: right;\">\n",
       "      <th></th>\n",
       "      <th>area_type</th>\n",
       "      <th>availability</th>\n",
       "      <th>location</th>\n",
       "      <th>size</th>\n",
       "      <th>society</th>\n",
       "      <th>total_sqft</th>\n",
       "      <th>bath</th>\n",
       "      <th>balcony</th>\n",
       "      <th>price</th>\n",
       "    </tr>\n",
       "  </thead>\n",
       "  <tbody>\n",
       "    <tr>\n",
       "      <th>0</th>\n",
       "      <td>Super built-up  Area</td>\n",
       "      <td>Ready To Move</td>\n",
       "      <td>Brookefield</td>\n",
       "      <td>2 BHK</td>\n",
       "      <td>Roeekbl</td>\n",
       "      <td>1225</td>\n",
       "      <td>2.0</td>\n",
       "      <td>2.0</td>\n",
       "      <td>NaN</td>\n",
       "    </tr>\n",
       "    <tr>\n",
       "      <th>1</th>\n",
       "      <td>Plot  Area</td>\n",
       "      <td>Ready To Move</td>\n",
       "      <td>Akshaya Nagar</td>\n",
       "      <td>9 Bedroom</td>\n",
       "      <td>NaN</td>\n",
       "      <td>2400</td>\n",
       "      <td>9.0</td>\n",
       "      <td>2.0</td>\n",
       "      <td>NaN</td>\n",
       "    </tr>\n",
       "    <tr>\n",
       "      <th>2</th>\n",
       "      <td>Plot  Area</td>\n",
       "      <td>18-Apr</td>\n",
       "      <td>Hennur Road</td>\n",
       "      <td>4 Bedroom</td>\n",
       "      <td>Saandtt</td>\n",
       "      <td>1650</td>\n",
       "      <td>5.0</td>\n",
       "      <td>2.0</td>\n",
       "      <td>NaN</td>\n",
       "    </tr>\n",
       "    <tr>\n",
       "      <th>3</th>\n",
       "      <td>Super built-up  Area</td>\n",
       "      <td>Ready To Move</td>\n",
       "      <td>Kodichikkanahalli</td>\n",
       "      <td>3 BHK</td>\n",
       "      <td>Winerri</td>\n",
       "      <td>1322</td>\n",
       "      <td>3.0</td>\n",
       "      <td>1.0</td>\n",
       "      <td>NaN</td>\n",
       "    </tr>\n",
       "    <tr>\n",
       "      <th>4</th>\n",
       "      <td>Super built-up  Area</td>\n",
       "      <td>Ready To Move</td>\n",
       "      <td>Konanakunte</td>\n",
       "      <td>2 BHK</td>\n",
       "      <td>AmageSa</td>\n",
       "      <td>1161</td>\n",
       "      <td>2.0</td>\n",
       "      <td>1.0</td>\n",
       "      <td>NaN</td>\n",
       "    </tr>\n",
       "  </tbody>\n",
       "</table>\n",
       "</div>"
      ],
      "text/plain": [
       "              area_type   availability           location       size  society  \\\n",
       "0  Super built-up  Area  Ready To Move        Brookefield      2 BHK  Roeekbl   \n",
       "1            Plot  Area  Ready To Move      Akshaya Nagar  9 Bedroom      NaN   \n",
       "2            Plot  Area         18-Apr        Hennur Road  4 Bedroom  Saandtt   \n",
       "3  Super built-up  Area  Ready To Move  Kodichikkanahalli      3 BHK  Winerri   \n",
       "4  Super built-up  Area  Ready To Move        Konanakunte      2 BHK  AmageSa   \n",
       "\n",
       "  total_sqft  bath  balcony  price  \n",
       "0       1225   2.0      2.0    NaN  \n",
       "1       2400   9.0      2.0    NaN  \n",
       "2       1650   5.0      2.0    NaN  \n",
       "3       1322   3.0      1.0    NaN  \n",
       "4       1161   2.0      1.0    NaN  "
      ]
     },
     "execution_count": 9,
     "metadata": {},
     "output_type": "execute_result"
    }
   ],
   "source": [
    "test.head()"
   ]
  },
  {
   "cell_type": "markdown",
   "metadata": {},
   "source": [
    "#### Data preprocessing"
   ]
  },
  {
   "cell_type": "code",
   "execution_count": 10,
   "metadata": {},
   "outputs": [
    {
     "data": {
      "text/plain": [
       "area_type          4\n",
       "availability      81\n",
       "location        1305\n",
       "size              31\n",
       "society         2688\n",
       "total_sqft      2117\n",
       "bath              19\n",
       "balcony            4\n",
       "price           1994\n",
       "dtype: int64"
      ]
     },
     "execution_count": 10,
     "metadata": {},
     "output_type": "execute_result"
    }
   ],
   "source": [
    "train.nunique()"
   ]
  },
  {
   "cell_type": "code",
   "execution_count": 11,
   "metadata": {},
   "outputs": [
    {
     "data": {
      "text/plain": [
       "(13320, 9)"
      ]
     },
     "execution_count": 11,
     "metadata": {},
     "output_type": "execute_result"
    }
   ],
   "source": [
    "train.shape"
   ]
  },
  {
   "cell_type": "code",
   "execution_count": 12,
   "metadata": {},
   "outputs": [],
   "source": [
    "import re"
   ]
  },
  {
   "cell_type": "code",
   "execution_count": 13,
   "metadata": {},
   "outputs": [],
   "source": [
    "def clean_totalsqft(total_sqft):\n",
    "    total_sqft= total_sqft.str.split('-')\n",
    "    for i in range(len(total_sqft)):\n",
    "        #if total_sqft[i][0].isdigit()==False:\n",
    "            #total_sqft[i][0]= total_sqft[i][0].str.split('')\n",
    "        try:\n",
    "            if len(total_sqft.iloc[i])>1:\n",
    "                total_sqft.iloc[i]= str(float(total_sqft.iloc[i][0])+float(total_sqft.iloc[i][1]))/2\n",
    "                total_sqft.iloc[1]= total_sqft.iloc[i][0]\n",
    "            #if len(total_sqft.iloc[i]==1):\n",
    "            #    total_sqft.iloc[i]= total_sqft.iloc[i].astype(float)\n",
    "        \n",
    "        except:\n",
    "            pass\n",
    "\n",
    "    return total_sqft"
   ]
  },
  {
   "cell_type": "code",
   "execution_count": 14,
   "metadata": {},
   "outputs": [],
   "source": [
    "sqft= clean_totalsqft(train['total_sqft'])"
   ]
  },
  {
   "cell_type": "code",
   "execution_count": 15,
   "metadata": {},
   "outputs": [],
   "source": [
    "sqft= [sq[0] for sq in sqft]"
   ]
  },
  {
   "cell_type": "code",
   "execution_count": 16,
   "metadata": {},
   "outputs": [],
   "source": [
    "train['total_sqft']= sqft"
   ]
  },
  {
   "cell_type": "code",
   "execution_count": 17,
   "metadata": {},
   "outputs": [],
   "source": [
    "def clean_total_sqft(total_sqft):\n",
    "    \n",
    "    for sq in range(len(total_sqft)):\n",
    "        if total_sqft[sq].isdigit()== False:\n",
    "            #print(total_sqft[sq])\n",
    "            #total_sqft[sq]= total_sqft[sq].split(' ')\n",
    "                #print(total_sqft[sq])\n",
    "            #total_sqft[sq]= ''.join(total_sqft[sq])\n",
    "                #print(total_sqft[sq])\n",
    "            total_sqft[sq]= re.split(r'([A-Z])', total_sqft[sq], 1, flags= re.I)\n",
    "                #print(total_sqft[sq])\n",
    "                #try:\n",
    "            if len(total_sqft[sq])>1:\n",
    "                if total_sqft[sq][2]== 'q. Meter':\n",
    "                    #print(total_sqft[sq])\n",
    "                    num= total_sqft[sq][0]\n",
    "                    #print(num)\n",
    "                    total_sqft[sq]= str(float(num)*10.7639)\n",
    "                    #print(total_sqft[sq])\n",
    "                elif total_sqft[sq][2]== 'q. Yards':\n",
    "                    #print(total_sqft[sq])\n",
    "                    num= total_sqft[sq][0]\n",
    "                    #print(num)\n",
    "                    total_sqft[sq]= str(float(num)*9)\n",
    "                    #print(total_sqft[sq])\n",
    "                elif total_sqft[sq][2]== 'erch':\n",
    "                    #print(total_sqft[sq])\n",
    "                    num= total_sqft[sq][0]\n",
    "                    #print(num)\n",
    "                    total_sqft[sq]= str(float(num)*272.25)\n",
    "                    #print(total_sqft[sq])\n",
    "                elif total_sqft[sq][2]== 'cres':\n",
    "                    #print(total_sqft[sq])\n",
    "                    num= total_sqft[sq][0]\n",
    "                    #print(num)\n",
    "                    total_sqft[sq]= str(float(num)*43560)\n",
    "                    #print(total_sqft[sq])\n",
    "                elif total_sqft[sq][2]== 'untha':\n",
    "                    #print(total_sqft[sq])\n",
    "                    num= total_sqft[sq][0]\n",
    "                    #print(num)\n",
    "                    total_sqft[sq]= str(float(num)*1089.087)\n",
    "                    #print(total_sqft[sq])\n",
    "                elif total_sqft[sq][2]== 'ents':\n",
    "                    #print(total_sqft[sq])\n",
    "                    num= total_sqft[sq][0]\n",
    "                    #print(num)\n",
    "                    total_sqft[sq]= str(float(num)*435.6)\n",
    "                    #print(total_sqft[sq])\n",
    "                elif total_sqft[sq][2]== 'rounds':\n",
    "                    #print(total_sqft[sq])\n",
    "                    num= total_sqft[sq][0]\n",
    "                    #print(num)\n",
    "                    total_sqft[sq]= str(float(num)*2400)\n",
    "                    #print(total_sqft[sq])\n",
    "                #except:\n",
    "                #    pass\n",
    "    return total_sqft"
   ]
  },
  {
   "cell_type": "code",
   "execution_count": 18,
   "metadata": {},
   "outputs": [],
   "source": [
    "sqft= clean_total_sqft(train['total_sqft'])"
   ]
  },
  {
   "cell_type": "code",
   "execution_count": 19,
   "metadata": {},
   "outputs": [],
   "source": [
    "for i in range(len(sqft)):\n",
    "    if type(sqft[i])== list:\n",
    "        sqft[i]= sqft[i][0]"
   ]
  },
  {
   "cell_type": "code",
   "execution_count": 20,
   "metadata": {},
   "outputs": [],
   "source": [
    "train['total_sqft']= sqft"
   ]
  },
  {
   "cell_type": "code",
   "execution_count": 21,
   "metadata": {},
   "outputs": [],
   "source": [
    "train['total_sqft']= train['total_sqft'].astype(float)"
   ]
  },
  {
   "cell_type": "code",
   "execution_count": 22,
   "metadata": {},
   "outputs": [
    {
     "data": {
      "text/plain": [
       "count    1.332000e+04\n",
       "mean     1.908577e+03\n",
       "std      1.727680e+04\n",
       "min      1.000000e+00\n",
       "25%      1.100000e+03\n",
       "50%      1.275000e+03\n",
       "75%      1.680000e+03\n",
       "max      1.306800e+06\n",
       "Name: total_sqft, dtype: float64"
      ]
     },
     "execution_count": 22,
     "metadata": {},
     "output_type": "execute_result"
    }
   ],
   "source": [
    "train['total_sqft'].describe()"
   ]
  },
  {
   "cell_type": "code",
   "execution_count": 23,
   "metadata": {},
   "outputs": [],
   "source": [
    "#simply do with test data\n",
    "sqft_test= clean_totalsqft(test['total_sqft'])"
   ]
  },
  {
   "cell_type": "code",
   "execution_count": 24,
   "metadata": {},
   "outputs": [],
   "source": [
    "sqft_test= [sq_[0] for sq_ in sqft_test]"
   ]
  },
  {
   "cell_type": "code",
   "execution_count": 25,
   "metadata": {},
   "outputs": [],
   "source": [
    "test['total_sqft']= sqft_test"
   ]
  },
  {
   "cell_type": "code",
   "execution_count": 26,
   "metadata": {},
   "outputs": [],
   "source": [
    "sqft_test= clean_total_sqft(test['total_sqft'])"
   ]
  },
  {
   "cell_type": "code",
   "execution_count": 27,
   "metadata": {},
   "outputs": [],
   "source": [
    "for i in range(len(sqft_test)):\n",
    "    if type(sqft_test[i])== list:\n",
    "        sqft_test[i]= sqft_test[i][0]"
   ]
  },
  {
   "cell_type": "code",
   "execution_count": 28,
   "metadata": {},
   "outputs": [],
   "source": [
    "test['total_sqft']= sqft_test"
   ]
  },
  {
   "cell_type": "code",
   "execution_count": 29,
   "metadata": {},
   "outputs": [],
   "source": [
    "test['total_sqft']= test['total_sqft'].astype(float)"
   ]
  },
  {
   "cell_type": "code",
   "execution_count": 30,
   "metadata": {},
   "outputs": [
    {
     "data": {
      "text/plain": [
       "count      1480.000000\n",
       "mean       1691.009959\n",
       "std        5678.722753\n",
       "min          40.000000\n",
       "25%        1109.750000\n",
       "50%        1300.000000\n",
       "75%        1717.000000\n",
       "max      217800.000000\n",
       "Name: total_sqft, dtype: float64"
      ]
     },
     "execution_count": 30,
     "metadata": {},
     "output_type": "execute_result"
    }
   ],
   "source": [
    "test['total_sqft'].describe()"
   ]
  },
  {
   "cell_type": "code",
   "execution_count": 31,
   "metadata": {},
   "outputs": [
    {
     "data": {
      "image/png": "[encoded data removed]",
      "text/plain": [
       "<Figure size 1080x864 with 1 Axes>"
      ]
     },
     "metadata": {},
     "output_type": "display_data"
    }
   ],
   "source": [
    "#plot the distribution plot\n",
    "sns.distplot(train['total_sqft'], bins= 50)\n",
    "plt.title('Total Sqft Distribution Plot')\n",
    "plt.show()"
   ]
  },
  {
   "cell_type": "code",
   "execution_count": 32,
   "metadata": {},
   "outputs": [
    {
     "data": {
      "image/png": "[encoded data removed]",
      "text/plain": [
       "<Figure size 1080x864 with 1 Axes>"
      ]
     },
     "metadata": {},
     "output_type": "display_data"
    }
   ],
   "source": [
    "plt.scatter(train['total_sqft'], train['price'])\n",
    "plt.title('Total Sqft vs Price')\n",
    "plt.xlabel('Total Sqft')\n",
    "plt.ylabel('Price')\n",
    "plt.show()"
   ]
  },
  {
   "cell_type": "code",
   "execution_count": 33,
   "metadata": {},
   "outputs": [
    {
     "data": {
      "image/png": "[encoded data removed]",
      "text/plain": [
       "<Figure size 1080x864 with 1 Axes>"
      ]
     },
     "metadata": {},
     "output_type": "display_data"
    }
   ],
   "source": [
    "sns.distplot(np.log(test['total_sqft']+1), bins= 50)\n",
    "plt.title('Total Sqft Distribution Plot')\n",
    "plt.show()"
   ]
  },
  {
   "cell_type": "code",
   "execution_count": 34,
   "metadata": {},
   "outputs": [
    {
     "data": {
      "image/png": "[encoded data removed]",
      "text/plain": [
       "<Figure size 1080x864 with 1 Axes>"
      ]
     },
     "metadata": {},
     "output_type": "display_data"
    }
   ],
   "source": [
    "sns.distplot(np.log(train['total_sqft']+1), bins= 50)\n",
    "plt.title('Total Sqft Distribution Plot')\n",
    "plt.show()"
   ]
  },
  {
   "cell_type": "code",
   "execution_count": 35,
   "metadata": {},
   "outputs": [
    {
     "data": {
      "text/plain": [
       "<matplotlib.collections.PathCollection at 0xa2cd92ab38>"
      ]
     },
     "execution_count": 35,
     "metadata": {},
     "output_type": "execute_result"
    },
    {
     "data": {
      "image/png": "[encoded data removed]",
      "text/plain": [
       "<Figure size 1080x864 with 1 Axes>"
      ]
     },
     "metadata": {},
     "output_type": "display_data"
    }
   ],
   "source": [
    "plt.scatter(np.log(train['total_sqft']+1), train['price'])"
   ]
  },
  {
   "cell_type": "code",
   "execution_count": 36,
   "metadata": {},
   "outputs": [
    {
     "data": {
      "text/plain": [
       "area_type          0\n",
       "availability       0\n",
       "location           1\n",
       "size              16\n",
       "society         5502\n",
       "total_sqft         0\n",
       "bath              73\n",
       "balcony          609\n",
       "price              0\n",
       "dtype: int64"
      ]
     },
     "execution_count": 36,
     "metadata": {},
     "output_type": "execute_result"
    }
   ],
   "source": [
    "train.isnull().sum()"
   ]
  },
  {
   "cell_type": "code",
   "execution_count": 37,
   "metadata": {},
   "outputs": [
    {
     "data": {
      "text/plain": [
       "area_type          0\n",
       "availability       0\n",
       "location           0\n",
       "size               2\n",
       "society          626\n",
       "total_sqft         0\n",
       "bath               7\n",
       "balcony           69\n",
       "price           1480\n",
       "dtype: int64"
      ]
     },
     "execution_count": 37,
     "metadata": {},
     "output_type": "execute_result"
    }
   ],
   "source": [
    "test.isnull().sum()"
   ]
  },
  {
   "cell_type": "code",
   "execution_count": 38,
   "metadata": {},
   "outputs": [
    {
     "data": {
      "text/plain": [
       "count     13304\n",
       "unique       31\n",
       "top       2 BHK\n",
       "freq       5199\n",
       "Name: size, dtype: object"
      ]
     },
     "execution_count": 38,
     "metadata": {},
     "output_type": "execute_result"
    }
   ],
   "source": [
    "train['size'].describe()"
   ]
  },
  {
   "cell_type": "code",
   "execution_count": 39,
   "metadata": {},
   "outputs": [
    {
     "data": {
      "text/plain": [
       "count          13319\n",
       "unique          1305\n",
       "top       Whitefield\n",
       "freq             540\n",
       "Name: location, dtype: object"
      ]
     },
     "execution_count": 39,
     "metadata": {},
     "output_type": "execute_result"
    }
   ],
   "source": [
    "train['location'].describe()"
   ]
  },
  {
   "cell_type": "code",
   "execution_count": 40,
   "metadata": {},
   "outputs": [
    {
     "data": {
      "text/plain": [
       "array([ 1.,  3., nan,  2.,  0.])"
      ]
     },
     "execution_count": 40,
     "metadata": {},
     "output_type": "execute_result"
    }
   ],
   "source": [
    "train['balcony'].unique()"
   ]
  },
  {
   "cell_type": "code",
   "execution_count": 41,
   "metadata": {},
   "outputs": [
    {
     "data": {
      "text/plain": [
       "array([ 2.,  5.,  3.,  4.,  6.,  1.,  9., nan,  8.,  7., 11., 10., 14.,\n",
       "       27., 12., 16., 40., 15., 13., 18.])"
      ]
     },
     "execution_count": 41,
     "metadata": {},
     "output_type": "execute_result"
    }
   ],
   "source": [
    "train['bath'].unique()"
   ]
  },
  {
   "cell_type": "code",
   "execution_count": 42,
   "metadata": {},
   "outputs": [
    {
     "data": {
      "text/plain": [
       "(1480, 9)"
      ]
     },
     "execution_count": 42,
     "metadata": {},
     "output_type": "execute_result"
    }
   ],
   "source": [
    "test.shape"
   ]
  },
  {
   "cell_type": "code",
   "execution_count": 43,
   "metadata": {},
   "outputs": [],
   "source": [
    "target= train['price']"
   ]
  },
  {
   "cell_type": "code",
   "execution_count": 44,
   "metadata": {},
   "outputs": [],
   "source": [
    "train['society'].fillna('Not Known', inplace= True)\n",
    "test['society'].fillna('Not Known', inplace= True)"
   ]
  },
  {
   "cell_type": "code",
   "execution_count": 45,
   "metadata": {},
   "outputs": [],
   "source": [
    "train['location'].fillna(train['location'].mode()[0], inplace= True)\n",
    "test['location'].fillna(test['location'].mode()[0], inplace= True)"
   ]
  },
  {
   "cell_type": "code",
   "execution_count": 46,
   "metadata": {},
   "outputs": [],
   "source": [
    "train['size'].fillna(train['size'].mode()[0], inplace= True)\n",
    "test['size'].fillna(test['size'].mode()[0], inplace= True)"
   ]
  },
  {
   "cell_type": "code",
   "execution_count": 47,
   "metadata": {},
   "outputs": [],
   "source": [
    "train['bath'].fillna(train['bath'].mode()[0], inplace= True)\n",
    "test['bath'].fillna(train['bath'].mode()[0], inplace= True)\n",
    "\n",
    "train['balcony'].fillna(0, inplace= True)\n",
    "test['balcony'].fillna(0, inplace= True)"
   ]
  },
  {
   "cell_type": "code",
   "execution_count": 48,
   "metadata": {},
   "outputs": [
    {
     "data": {
      "text/plain": [
       "area_type        object\n",
       "availability     object\n",
       "location         object\n",
       "size             object\n",
       "society          object\n",
       "total_sqft      float64\n",
       "bath            float64\n",
       "balcony         float64\n",
       "price           float64\n",
       "dtype: object"
      ]
     },
     "execution_count": 48,
     "metadata": {},
     "output_type": "execute_result"
    }
   ],
   "source": [
    "train.dtypes"
   ]
  },
  {
   "cell_type": "code",
   "execution_count": 49,
   "metadata": {},
   "outputs": [],
   "source": [
    "train['bath']= train['bath'].astype(int)\n",
    "test['bath']= test['bath'].astype(int)\n",
    "\n",
    "train['balcony']= train['balcony'].astype(int)\n",
    "test['balcony']= test['balcony'].astype(int)"
   ]
  },
  {
   "cell_type": "code",
   "execution_count": 50,
   "metadata": {},
   "outputs": [
    {
     "data": {
      "text/html": [
       "<div>\n",
       "<style scoped>\n",
       "    .dataframe tbody tr th:only-of-type {\n",
       "        vertical-align: middle;\n",
       "    }\n",
       "\n",
       "    .dataframe tbody tr th {\n",
       "        vertical-align: top;\n",
       "    }\n",
       "\n",
       "    .dataframe thead th {\n",
       "        text-align: right;\n",
       "    }\n",
       "</style>\n",
       "<table border=\"1\" class=\"dataframe\">\n",
       "  <thead>\n",
       "    <tr style=\"text-align: right;\">\n",
       "      <th></th>\n",
       "      <th>area_type</th>\n",
       "      <th>availability</th>\n",
       "      <th>location</th>\n",
       "      <th>size</th>\n",
       "      <th>society</th>\n",
       "      <th>total_sqft</th>\n",
       "      <th>bath</th>\n",
       "      <th>balcony</th>\n",
       "      <th>price</th>\n",
       "    </tr>\n",
       "  </thead>\n",
       "  <tbody>\n",
       "    <tr>\n",
       "      <th>0</th>\n",
       "      <td>Super built-up  Area</td>\n",
       "      <td>19-Dec</td>\n",
       "      <td>Electronic City Phase II</td>\n",
       "      <td>2 BHK</td>\n",
       "      <td>Coomee</td>\n",
       "      <td>1056.0</td>\n",
       "      <td>2</td>\n",
       "      <td>1</td>\n",
       "      <td>39.07</td>\n",
       "    </tr>\n",
       "    <tr>\n",
       "      <th>1</th>\n",
       "      <td>Plot  Area</td>\n",
       "      <td>Ready To Move</td>\n",
       "      <td>Chikka Tirupathi</td>\n",
       "      <td>4 Bedroom</td>\n",
       "      <td>Theanmp</td>\n",
       "      <td>2600.0</td>\n",
       "      <td>5</td>\n",
       "      <td>3</td>\n",
       "      <td>120.00</td>\n",
       "    </tr>\n",
       "    <tr>\n",
       "      <th>2</th>\n",
       "      <td>Built-up  Area</td>\n",
       "      <td>Ready To Move</td>\n",
       "      <td>Uttarahalli</td>\n",
       "      <td>3 BHK</td>\n",
       "      <td>Not Known</td>\n",
       "      <td>1440.0</td>\n",
       "      <td>2</td>\n",
       "      <td>3</td>\n",
       "      <td>62.00</td>\n",
       "    </tr>\n",
       "    <tr>\n",
       "      <th>3</th>\n",
       "      <td>Super built-up  Area</td>\n",
       "      <td>Ready To Move</td>\n",
       "      <td>Lingadheeranahalli</td>\n",
       "      <td>3 BHK</td>\n",
       "      <td>Soiewre</td>\n",
       "      <td>1521.0</td>\n",
       "      <td>3</td>\n",
       "      <td>1</td>\n",
       "      <td>95.00</td>\n",
       "    </tr>\n",
       "    <tr>\n",
       "      <th>4</th>\n",
       "      <td>Super built-up  Area</td>\n",
       "      <td>Ready To Move</td>\n",
       "      <td>Kothanur</td>\n",
       "      <td>2 BHK</td>\n",
       "      <td>Not Known</td>\n",
       "      <td>1200.0</td>\n",
       "      <td>2</td>\n",
       "      <td>1</td>\n",
       "      <td>51.00</td>\n",
       "    </tr>\n",
       "  </tbody>\n",
       "</table>\n",
       "</div>"
      ],
      "text/plain": [
       "              area_type   availability                  location       size  \\\n",
       "0  Super built-up  Area         19-Dec  Electronic City Phase II      2 BHK   \n",
       "1            Plot  Area  Ready To Move          Chikka Tirupathi  4 Bedroom   \n",
       "2        Built-up  Area  Ready To Move               Uttarahalli      3 BHK   \n",
       "3  Super built-up  Area  Ready To Move        Lingadheeranahalli      3 BHK   \n",
       "4  Super built-up  Area  Ready To Move                  Kothanur      2 BHK   \n",
       "\n",
       "     society  total_sqft  bath  balcony   price  \n",
       "0    Coomee       1056.0     2        1   39.07  \n",
       "1    Theanmp      2600.0     5        3  120.00  \n",
       "2  Not Known      1440.0     2        3   62.00  \n",
       "3    Soiewre      1521.0     3        1   95.00  \n",
       "4  Not Known      1200.0     2        1   51.00  "
      ]
     },
     "execution_count": 50,
     "metadata": {},
     "output_type": "execute_result"
    }
   ],
   "source": [
    "train.head()"
   ]
  },
  {
   "cell_type": "code",
   "execution_count": 51,
   "metadata": {},
   "outputs": [
    {
     "data": {
      "text/html": [
       "<div>\n",
       "<style scoped>\n",
       "    .dataframe tbody tr th:only-of-type {\n",
       "        vertical-align: middle;\n",
       "    }\n",
       "\n",
       "    .dataframe tbody tr th {\n",
       "        vertical-align: top;\n",
       "    }\n",
       "\n",
       "    .dataframe thead th {\n",
       "        text-align: right;\n",
       "    }\n",
       "</style>\n",
       "<table border=\"1\" class=\"dataframe\">\n",
       "  <thead>\n",
       "    <tr style=\"text-align: right;\">\n",
       "      <th></th>\n",
       "      <th>area_type</th>\n",
       "      <th>availability</th>\n",
       "      <th>location</th>\n",
       "      <th>size</th>\n",
       "      <th>society</th>\n",
       "      <th>total_sqft</th>\n",
       "      <th>bath</th>\n",
       "      <th>balcony</th>\n",
       "      <th>price</th>\n",
       "    </tr>\n",
       "  </thead>\n",
       "  <tbody>\n",
       "    <tr>\n",
       "      <th>0</th>\n",
       "      <td>Super built-up  Area</td>\n",
       "      <td>Ready To Move</td>\n",
       "      <td>Brookefield</td>\n",
       "      <td>2 BHK</td>\n",
       "      <td>Roeekbl</td>\n",
       "      <td>1225.0</td>\n",
       "      <td>2</td>\n",
       "      <td>2</td>\n",
       "      <td>NaN</td>\n",
       "    </tr>\n",
       "    <tr>\n",
       "      <th>1</th>\n",
       "      <td>Plot  Area</td>\n",
       "      <td>Ready To Move</td>\n",
       "      <td>Akshaya Nagar</td>\n",
       "      <td>9 Bedroom</td>\n",
       "      <td>Not Known</td>\n",
       "      <td>2400.0</td>\n",
       "      <td>9</td>\n",
       "      <td>2</td>\n",
       "      <td>NaN</td>\n",
       "    </tr>\n",
       "    <tr>\n",
       "      <th>2</th>\n",
       "      <td>Plot  Area</td>\n",
       "      <td>18-Apr</td>\n",
       "      <td>Hennur Road</td>\n",
       "      <td>4 Bedroom</td>\n",
       "      <td>Saandtt</td>\n",
       "      <td>1650.0</td>\n",
       "      <td>5</td>\n",
       "      <td>2</td>\n",
       "      <td>NaN</td>\n",
       "    </tr>\n",
       "    <tr>\n",
       "      <th>3</th>\n",
       "      <td>Super built-up  Area</td>\n",
       "      <td>Ready To Move</td>\n",
       "      <td>Kodichikkanahalli</td>\n",
       "      <td>3 BHK</td>\n",
       "      <td>Winerri</td>\n",
       "      <td>1322.0</td>\n",
       "      <td>3</td>\n",
       "      <td>1</td>\n",
       "      <td>NaN</td>\n",
       "    </tr>\n",
       "    <tr>\n",
       "      <th>4</th>\n",
       "      <td>Super built-up  Area</td>\n",
       "      <td>Ready To Move</td>\n",
       "      <td>Konanakunte</td>\n",
       "      <td>2 BHK</td>\n",
       "      <td>AmageSa</td>\n",
       "      <td>1161.0</td>\n",
       "      <td>2</td>\n",
       "      <td>1</td>\n",
       "      <td>NaN</td>\n",
       "    </tr>\n",
       "  </tbody>\n",
       "</table>\n",
       "</div>"
      ],
      "text/plain": [
       "              area_type   availability           location       size  \\\n",
       "0  Super built-up  Area  Ready To Move        Brookefield      2 BHK   \n",
       "1            Plot  Area  Ready To Move      Akshaya Nagar  9 Bedroom   \n",
       "2            Plot  Area         18-Apr        Hennur Road  4 Bedroom   \n",
       "3  Super built-up  Area  Ready To Move  Kodichikkanahalli      3 BHK   \n",
       "4  Super built-up  Area  Ready To Move        Konanakunte      2 BHK   \n",
       "\n",
       "     society  total_sqft  bath  balcony  price  \n",
       "0    Roeekbl      1225.0     2        2    NaN  \n",
       "1  Not Known      2400.0     9        2    NaN  \n",
       "2    Saandtt      1650.0     5        2    NaN  \n",
       "3    Winerri      1322.0     3        1    NaN  \n",
       "4    AmageSa      1161.0     2        1    NaN  "
      ]
     },
     "execution_count": 51,
     "metadata": {},
     "output_type": "execute_result"
    }
   ],
   "source": [
    "test.head()"
   ]
  },
  {
   "cell_type": "code",
   "execution_count": 52,
   "metadata": {},
   "outputs": [],
   "source": [
    "train_new= train.copy()\n",
    "test_new= test.copy()"
   ]
  },
  {
   "cell_type": "markdown",
   "metadata": {},
   "source": [
    "#### Machine learning implementation"
   ]
  },
  {
   "cell_type": "code",
   "execution_count": 53,
   "metadata": {},
   "outputs": [],
   "source": [
    "import catboost as cb"
   ]
  },
  {
   "cell_type": "code",
   "execution_count": 54,
   "metadata": {},
   "outputs": [],
   "source": [
    "from sklearn.model_selection import KFold"
   ]
  },
  {
   "cell_type": "code",
   "execution_count": 55,
   "metadata": {},
   "outputs": [],
   "source": [
    "cat_feat_index= np.where(train_new.dtypes!= np.float)[0]"
   ]
  },
  {
   "cell_type": "code",
   "execution_count": 56,
   "metadata": {},
   "outputs": [],
   "source": [
    "train_new['price']= np.log(train_new['price']+1)\n",
    "train_new['total_sqft']= np.log(train_new['total_sqft']+1)\n",
    "\n",
    "test_new['price']= np.log(test_new['price']+1)\n",
    "test_new['total_sqft']= np.log(test_new['total_sqft']+1)"
   ]
  },
  {
   "cell_type": "code",
   "execution_count": 57,
   "metadata": {},
   "outputs": [],
   "source": [
    "from sklearn.metrics import r2_score, mean_squared_error, mean_squared_log_error"
   ]
  },
  {
   "cell_type": "code",
   "execution_count": 120,
   "metadata": {},
   "outputs": [],
   "source": [
    "def run_CB(train, target, test, cat_feat_index= cat_feat_index):\n",
    "    #from sklearn.model_selection import train_test_split\n",
    "    from sklearn.metrics import r2_score, mean_squared_error, mean_squared_log_error\n",
    "    #X_train, X_test, y_train, y_test= train_test_split(train, target, random_state= 0)\n",
    "    \n",
    "    r_squared_1= []\n",
    "    mse_1= []\n",
    "    rmse_1= []\n",
    "    rmsle_1= []\n",
    "    y_test_1= []\n",
    "    #msle_1= []\n",
    "    \n",
    "    kf = KFold(n_splits=10, shuffle= True, random_state= 0) \n",
    "\n",
    "    for train_index, test_index in kf.split(train, target):\n",
    "        #print(\"Train:\", train_index, \"Validation:\",test_index)\n",
    "        X_train, X_test = train.loc[train_index,:], train.loc[test_index,:] \n",
    "        y_train, y_test = target[train_index], target[test_index]\n",
    "    \n",
    "        param_cb= {}\n",
    "        param_cb['iterations']= 10000\n",
    "        param_cb['learning_rate']= 0.08\n",
    "        #param_cb['max_depth']= 3\n",
    "        #param_cb['random_seed']= i\n",
    "\n",
    "        model= cb.CatBoostRegressor(**param_cb)\n",
    "\n",
    "        #model.fit(X_train, y_train, cat_feat_index, eval_set= (X_test, y_test), early_stopping_rounds= 50, verbose= 1000)\n",
    "        model.fit(X_train, y_train, cat_feat_index, eval_set= (X_test, y_test), verbose= 1000)\n",
    "\n",
    "\n",
    "        y_pred= model.predict(X_test)\n",
    "        #y_pred_1.append(y_pred)\n",
    "        y_test_= model.predict(test)\n",
    "        y_test_1.append(y_test_)\n",
    "        \n",
    "        r_squared= r2_score(y_test, y_pred)\n",
    "        mse= mean_squared_error(y_test, y_pred)\n",
    "        rmse= np.sqrt(mse)\n",
    "        msle= mean_squared_log_error(y_test, y_pred)\n",
    "        rmsle= np.sqrt(msle)\n",
    "        \n",
    "        r_squared_1.append(r_squared)\n",
    "        mse_1.append(mse)\n",
    "        rmse_1.append(rmse)\n",
    "        rmsle_1.append(rmsle)\n",
    "        #msle_1.append(msle)\n",
    "    print('The R-Squared value: {:.4f}' .format(np.mean(r_squared_1)))\n",
    "    print('Mean Squared Error: {:.4f}' .format(np.mean(mse_1)))\n",
    "    print('Root Mean Squared Error: {:.4f}' .format(np.mean(rmse_1)))\n",
    "    print('Root Mean Squared Log Error: {:.4f}' .format(np.mean(rmsle_1)))\n",
    "\n",
    "    return np.mean(y_test_1, axis= 0)"
   ]
  },
  {
   "cell_type": "code",
   "execution_count": 121,
   "metadata": {
    "scrolled": false
   },
   "outputs": [
    {
     "name": "stdout",
     "output_type": "stream",
     "text": [
      "0:\tlearn: 4.1191849\ttest: 4.0920227\tbest: 4.0920227 (0)\ttotal: 65.8ms\tremaining: 10m 58s\n",
      "1000:\tlearn: 0.2826104\ttest: 0.3044579\tbest: 0.3044579 (1000)\ttotal: 1m 5s\tremaining: 9m 51s\n",
      "2000:\tlearn: 0.2596033\ttest: 0.2995285\tbest: 0.2993412 (1969)\ttotal: 2m 13s\tremaining: 8m 53s\n",
      "3000:\tlearn: 0.2444547\ttest: 0.2981689\tbest: 0.2981689 (3000)\ttotal: 3m 14s\tremaining: 7m 34s\n",
      "4000:\tlearn: 0.2315729\ttest: 0.2979235\tbest: 0.2977277 (3946)\ttotal: 4m 25s\tremaining: 6m 37s\n",
      "5000:\tlearn: 0.2221965\ttest: 0.2983885\tbest: 0.2977277 (3946)\ttotal: 5m 25s\tremaining: 5m 25s\n",
      "6000:\tlearn: 0.2135368\ttest: 0.2983570\tbest: 0.2977277 (3946)\ttotal: 6m 28s\tremaining: 4m 18s\n",
      "7000:\tlearn: 0.2056077\ttest: 0.2986243\tbest: 0.2977277 (3946)\ttotal: 7m 29s\tremaining: 3m 12s\n",
      "8000:\tlearn: 0.1989411\ttest: 0.3002312\tbest: 0.2977277 (3946)\ttotal: 8m 22s\tremaining: 2m 5s\n",
      "9000:\tlearn: 0.1927092\ttest: 0.3005508\tbest: 0.2977277 (3946)\ttotal: 9m 20s\tremaining: 1m 2s\n",
      "9999:\tlearn: 0.1867597\ttest: 0.3014833\tbest: 0.2977277 (3946)\ttotal: 10m 14s\tremaining: 0us\n",
      "\n",
      "bestTest = 0.297727726\n",
      "bestIteration = 3946\n",
      "\n",
      "Shrink model to first 3947 iterations.\n",
      "0:\tlearn: 4.1147577\ttest: 4.1248903\tbest: 4.1248903 (0)\ttotal: 45.9ms\tremaining: 7m 39s\n",
      "1000:\tlearn: 0.2977087\ttest: 0.3057236\tbest: 0.3056992 (908)\ttotal: 43.1s\tremaining: 6m 27s\n",
      "2000:\tlearn: 0.2824023\ttest: 0.3014367\tbest: 0.3013193 (1838)\ttotal: 1m 28s\tremaining: 5m 55s\n",
      "3000:\tlearn: 0.2684637\ttest: 0.3003173\tbest: 0.3001914 (2968)\ttotal: 2m 23s\tremaining: 5m 34s\n",
      "4000:\tlearn: 0.2540591\ttest: 0.2999786\tbest: 0.2992741 (3686)\ttotal: 3m 15s\tremaining: 4m 52s\n",
      "5000:\tlearn: 0.2436157\ttest: 0.3008661\tbest: 0.2992741 (3686)\ttotal: 4m 7s\tremaining: 4m 7s\n",
      "6000:\tlearn: 0.2346877\ttest: 0.3004633\tbest: 0.2992741 (3686)\ttotal: 4m 57s\tremaining: 3m 18s\n",
      "7000:\tlearn: 0.2289135\ttest: 0.3007293\tbest: 0.2992741 (3686)\ttotal: 5m 45s\tremaining: 2m 28s\n",
      "8000:\tlearn: 0.2208649\ttest: 0.3013091\tbest: 0.2992741 (3686)\ttotal: 6m 40s\tremaining: 1m 40s\n",
      "9000:\tlearn: 0.2144755\ttest: 0.3023793\tbest: 0.2992741 (3686)\ttotal: 7m 34s\tremaining: 50.5s\n",
      "9999:\tlearn: 0.2074925\ttest: 0.3029826\tbest: 0.2992741 (3686)\ttotal: 8m 33s\tremaining: 0us\n",
      "\n",
      "bestTest = 0.2992741052\n",
      "bestIteration = 3686\n",
      "\n",
      "Shrink model to first 3687 iterations.\n",
      "0:\tlearn: 4.1181975\ttest: 4.0864411\tbest: 4.0864411 (0)\ttotal: 46.5ms\tremaining: 7m 45s\n",
      "1000:\tlearn: 0.2709002\ttest: 0.2759946\tbest: 0.2759946 (1000)\ttotal: 1m 5s\tremaining: 9m 53s\n",
      "2000:\tlearn: 0.2502713\ttest: 0.2707539\tbest: 0.2707159 (1939)\ttotal: 2m 18s\tremaining: 9m 11s\n",
      "3000:\tlearn: 0.2351803\ttest: 0.2688840\tbest: 0.2686568 (2951)\ttotal: 3m 19s\tremaining: 7m 46s\n",
      "4000:\tlearn: 0.2232485\ttest: 0.2679663\tbest: 0.2679286 (3649)\ttotal: 4m 20s\tremaining: 6m 30s\n",
      "5000:\tlearn: 0.2131599\ttest: 0.2671587\tbest: 0.2669899 (4945)\ttotal: 5m 27s\tremaining: 5m 27s\n",
      "6000:\tlearn: 0.2042180\ttest: 0.2672028\tbest: 0.2669899 (4945)\ttotal: 6m 51s\tremaining: 4m 34s\n",
      "7000:\tlearn: 0.1970630\ttest: 0.2679581\tbest: 0.2669899 (4945)\ttotal: 8m 5s\tremaining: 3m 28s\n",
      "8000:\tlearn: 0.1913463\ttest: 0.2685100\tbest: 0.2669899 (4945)\ttotal: 9m 28s\tremaining: 2m 22s\n",
      "9000:\tlearn: 0.1859439\ttest: 0.2684802\tbest: 0.2669899 (4945)\ttotal: 10m 44s\tremaining: 1m 11s\n",
      "9999:\tlearn: 0.1805899\ttest: 0.2687675\tbest: 0.2669899 (4945)\ttotal: 12m 8s\tremaining: 0us\n",
      "\n",
      "bestTest = 0.2669899262\n",
      "bestIteration = 4945\n",
      "\n",
      "Shrink model to first 4946 iterations.\n",
      "0:\tlearn: 4.1141692\ttest: 4.1365355\tbest: 4.1365355 (0)\ttotal: 70.9ms\tremaining: 11m 48s\n",
      "1000:\tlearn: 0.2697618\ttest: 0.2984159\tbest: 0.2983677 (997)\ttotal: 1m 1s\tremaining: 9m 15s\n",
      "2000:\tlearn: 0.2479221\ttest: 0.2940455\tbest: 0.2940455 (2000)\ttotal: 2m 11s\tremaining: 8m 46s\n",
      "3000:\tlearn: 0.2329443\ttest: 0.2927354\tbest: 0.2923715 (2605)\ttotal: 3m 13s\tremaining: 7m 30s\n",
      "4000:\tlearn: 0.2208004\ttest: 0.2915348\tbest: 0.2915348 (4000)\ttotal: 4m 28s\tremaining: 6m 43s\n",
      "5000:\tlearn: 0.2112056\ttest: 0.2915278\tbest: 0.2910701 (4733)\ttotal: 5m 41s\tremaining: 5m 41s\n",
      "6000:\tlearn: 0.2028863\ttest: 0.2923808\tbest: 0.2910701 (4733)\ttotal: 7m 1s\tremaining: 4m 41s\n",
      "7000:\tlearn: 0.1959436\ttest: 0.2916538\tbest: 0.2910701 (4733)\ttotal: 8m 18s\tremaining: 3m 33s\n",
      "8000:\tlearn: 0.1899141\ttest: 0.2914458\tbest: 0.2910701 (4733)\ttotal: 9m 37s\tremaining: 2m 24s\n",
      "9000:\tlearn: 0.1847769\ttest: 0.2918521\tbest: 0.2910701 (4733)\ttotal: 10m 51s\tremaining: 1m 12s\n",
      "9999:\tlearn: 0.1800656\ttest: 0.2915335\tbest: 0.2910701 (4733)\ttotal: 12m 6s\tremaining: 0us\n",
      "\n",
      "bestTest = 0.2910700804\n",
      "bestIteration = 4733\n",
      "\n",
      "Shrink model to first 4734 iterations.\n",
      "0:\tlearn: 4.1153740\ttest: 4.1283815\tbest: 4.1283815 (0)\ttotal: 47ms\tremaining: 7m 49s\n",
      "1000:\tlearn: 0.2856883\ttest: 0.3119807\tbest: 0.3117505 (972)\ttotal: 53.9s\tremaining: 8m 4s\n",
      "2000:\tlearn: 0.2606487\ttest: 0.3035106\tbest: 0.3035106 (2000)\ttotal: 2m 2s\tremaining: 8m 8s\n",
      "3000:\tlearn: 0.2476055\ttest: 0.3012420\tbest: 0.3010779 (2965)\ttotal: 3m 4s\tremaining: 7m 10s\n",
      "4000:\tlearn: 0.2371365\ttest: 0.3000767\tbest: 0.3000609 (3996)\ttotal: 3m 58s\tremaining: 5m 57s\n",
      "5000:\tlearn: 0.2287201\ttest: 0.2996291\tbest: 0.2992332 (4475)\ttotal: 4m 53s\tremaining: 4m 53s\n",
      "6000:\tlearn: 0.2210425\ttest: 0.2992846\tbest: 0.2991065 (5784)\ttotal: 5m 49s\tremaining: 3m 52s\n",
      "7000:\tlearn: 0.2140201\ttest: 0.2986810\tbest: 0.2986057 (6956)\ttotal: 6m 44s\tremaining: 2m 53s\n",
      "8000:\tlearn: 0.2081595\ttest: 0.2991481\tbest: 0.2985510 (7204)\ttotal: 7m 45s\tremaining: 1m 56s\n",
      "9000:\tlearn: 0.2029879\ttest: 0.2998847\tbest: 0.2985510 (7204)\ttotal: 8m 40s\tremaining: 57.8s\n",
      "9999:\tlearn: 0.1979215\ttest: 0.3002866\tbest: 0.2985510 (7204)\ttotal: 9m 41s\tremaining: 0us\n",
      "\n",
      "bestTest = 0.2985510121\n",
      "bestIteration = 7204\n",
      "\n",
      "Shrink model to first 7205 iterations.\n",
      "0:\tlearn: 4.1203320\ttest: 4.1143027\tbest: 4.1143027 (0)\ttotal: 12.5ms\tremaining: 2m 4s\n",
      "1000:\tlearn: 0.2666521\ttest: 0.3035393\tbest: 0.3029797 (932)\ttotal: 1m 5s\tremaining: 9m 52s\n",
      "2000:\tlearn: 0.2439814\ttest: 0.2994798\tbest: 0.2994798 (2000)\ttotal: 2m 4s\tremaining: 8m 19s\n",
      "3000:\tlearn: 0.2279028\ttest: 0.2989137\tbest: 0.2986582 (2948)\ttotal: 3m 8s\tremaining: 7m 20s\n",
      "4000:\tlearn: 0.2156043\ttest: 0.2989624\tbest: 0.2985575 (3403)\ttotal: 4m 10s\tremaining: 6m 14s\n",
      "5000:\tlearn: 0.2060798\ttest: 0.2994399\tbest: 0.2985575 (3403)\ttotal: 5m 4s\tremaining: 5m 4s\n",
      "6000:\tlearn: 0.1973869\ttest: 0.3004128\tbest: 0.2985575 (3403)\ttotal: 6m 3s\tremaining: 4m 2s\n",
      "7000:\tlearn: 0.1910165\ttest: 0.3007384\tbest: 0.2985575 (3403)\ttotal: 7m 1s\tremaining: 3m\n",
      "8000:\tlearn: 0.1848281\ttest: 0.3007571\tbest: 0.2985575 (3403)\ttotal: 8m 1s\tremaining: 2m\n",
      "9000:\tlearn: 0.1787787\ttest: 0.3003939\tbest: 0.2985575 (3403)\ttotal: 8m 57s\tremaining: 59.6s\n",
      "9999:\tlearn: 0.1736283\ttest: 0.3003890\tbest: 0.2985575 (3403)\ttotal: 9m 51s\tremaining: 0us\n",
      "\n",
      "bestTest = 0.298557541\n",
      "bestIteration = 3403\n",
      "\n",
      "Shrink model to first 3404 iterations.\n",
      "0:\tlearn: 4.1199312\ttest: 4.0968177\tbest: 4.0968177 (0)\ttotal: 23.1ms\tremaining: 3m 50s\n",
      "1000:\tlearn: 0.2666967\ttest: 0.2937808\tbest: 0.2936311 (981)\ttotal: 51.9s\tremaining: 7m 46s\n",
      "2000:\tlearn: 0.2432632\ttest: 0.2920946\tbest: 0.2917283 (1946)\ttotal: 1m 47s\tremaining: 7m 9s\n",
      "3000:\tlearn: 0.2289088\ttest: 0.2918151\tbest: 0.2913887 (2433)\ttotal: 2m 45s\tremaining: 6m 25s\n",
      "4000:\tlearn: 0.2178609\ttest: 0.2925750\tbest: 0.2913887 (2433)\ttotal: 3m 39s\tremaining: 5m 29s\n",
      "5000:\tlearn: 0.2086552\ttest: 0.2919783\tbest: 0.2913887 (2433)\ttotal: 4m 33s\tremaining: 4m 33s\n",
      "6000:\tlearn: 0.1999721\ttest: 0.2924144\tbest: 0.2913887 (2433)\ttotal: 5m 27s\tremaining: 3m 38s\n",
      "7000:\tlearn: 0.1925822\ttest: 0.2932153\tbest: 0.2913887 (2433)\ttotal: 6m 22s\tremaining: 2m 43s\n",
      "8000:\tlearn: 0.1865172\ttest: 0.2939518\tbest: 0.2913887 (2433)\ttotal: 7m 16s\tremaining: 1m 48s\n",
      "9000:\tlearn: 0.1812412\ttest: 0.2939792\tbest: 0.2913887 (2433)\ttotal: 8m 10s\tremaining: 54.5s\n",
      "9999:\tlearn: 0.1765592\ttest: 0.2947489\tbest: 0.2913887 (2433)\ttotal: 9m 6s\tremaining: 0us\n",
      "\n",
      "bestTest = 0.2913887\n",
      "bestIteration = 2433\n",
      "\n",
      "Shrink model to first 2434 iterations.\n",
      "0:\tlearn: 4.1141581\ttest: 4.1347083\tbest: 4.1347083 (0)\ttotal: 18.1ms\tremaining: 3m 1s\n",
      "1000:\tlearn: 0.2763891\ttest: 0.2924210\tbest: 0.2924200 (998)\ttotal: 46s\tremaining: 6m 53s\n",
      "2000:\tlearn: 0.2572891\ttest: 0.2894665\tbest: 0.2892161 (1970)\ttotal: 1m 37s\tremaining: 6m 29s\n",
      "3000:\tlearn: 0.2420643\ttest: 0.2889354\tbest: 0.2885958 (2750)\ttotal: 2m 29s\tremaining: 5m 47s\n",
      "4000:\tlearn: 0.2296319\ttest: 0.2897323\tbest: 0.2885958 (2750)\ttotal: 3m 20s\tremaining: 5m\n",
      "5000:\tlearn: 0.2203715\ttest: 0.2901669\tbest: 0.2885958 (2750)\ttotal: 4m 12s\tremaining: 4m 12s\n"
     ]
    },
    {
     "name": "stdout",
     "output_type": "stream",
     "text": [
      "6000:\tlearn: 0.2120898\ttest: 0.2911203\tbest: 0.2885958 (2750)\ttotal: 5m 4s\tremaining: 3m 22s\n",
      "7000:\tlearn: 0.2052753\ttest: 0.2913734\tbest: 0.2885958 (2750)\ttotal: 5m 56s\tremaining: 2m 32s\n",
      "8000:\tlearn: 0.1992031\ttest: 0.2917348\tbest: 0.2885958 (2750)\ttotal: 6m 49s\tremaining: 1m 42s\n",
      "9000:\tlearn: 0.1933814\ttest: 0.2926545\tbest: 0.2885958 (2750)\ttotal: 7m 42s\tremaining: 51.3s\n",
      "9999:\tlearn: 0.1883558\ttest: 0.2933991\tbest: 0.2885958 (2750)\ttotal: 8m 36s\tremaining: 0us\n",
      "\n",
      "bestTest = 0.288595797\n",
      "bestIteration = 2750\n",
      "\n",
      "Shrink model to first 2751 iterations.\n",
      "0:\tlearn: 4.1139931\ttest: 4.1246049\tbest: 4.1246049 (0)\ttotal: 55.8ms\tremaining: 9m 17s\n",
      "1000:\tlearn: 0.2924113\ttest: 0.2888968\tbest: 0.2885561 (927)\ttotal: 44.3s\tremaining: 6m 37s\n",
      "2000:\tlearn: 0.2671997\ttest: 0.2833528\tbest: 0.2832084 (1981)\ttotal: 1m 33s\tremaining: 6m 15s\n",
      "3000:\tlearn: 0.2518428\ttest: 0.2818697\tbest: 0.2818466 (2981)\ttotal: 2m 22s\tremaining: 5m 33s\n",
      "4000:\tlearn: 0.2390518\ttest: 0.2820570\tbest: 0.2811460 (3448)\ttotal: 3m 11s\tremaining: 4m 47s\n",
      "5000:\tlearn: 0.2277155\ttest: 0.2816273\tbest: 0.2811460 (3448)\ttotal: 4m 4s\tremaining: 4m 4s\n",
      "6000:\tlearn: 0.2169895\ttest: 0.2814836\tbest: 0.2811460 (3448)\ttotal: 4m 56s\tremaining: 3m 17s\n",
      "7000:\tlearn: 0.2080322\ttest: 0.2814524\tbest: 0.2811460 (3448)\ttotal: 5m 48s\tremaining: 2m 29s\n",
      "8000:\tlearn: 0.2009326\ttest: 0.2814606\tbest: 0.2811460 (3448)\ttotal: 6m 41s\tremaining: 1m 40s\n",
      "9000:\tlearn: 0.1949129\ttest: 0.2818780\tbest: 0.2811460 (3448)\ttotal: 7m 34s\tremaining: 50.4s\n",
      "9999:\tlearn: 0.1890423\ttest: 0.2825849\tbest: 0.2811460 (3448)\ttotal: 8m 26s\tremaining: 0us\n",
      "\n",
      "bestTest = 0.2811460341\n",
      "bestIteration = 3448\n",
      "\n",
      "Shrink model to first 3449 iterations.\n",
      "0:\tlearn: 4.1161020\ttest: 4.1232636\tbest: 4.1232636 (0)\ttotal: 23.8ms\tremaining: 3m 57s\n",
      "1000:\tlearn: 0.2860915\ttest: 0.2849912\tbest: 0.2849777 (999)\ttotal: 46.8s\tremaining: 7m\n",
      "2000:\tlearn: 0.2622529\ttest: 0.2806215\tbest: 0.2802986 (1944)\ttotal: 1m 43s\tremaining: 6m 53s\n",
      "3000:\tlearn: 0.2447320\ttest: 0.2779367\tbest: 0.2778206 (2963)\ttotal: 2m 37s\tremaining: 6m 6s\n",
      "4000:\tlearn: 0.2329113\ttest: 0.2779474\tbest: 0.2778206 (2963)\ttotal: 3m 30s\tremaining: 5m 15s\n",
      "5000:\tlearn: 0.2242305\ttest: 0.2780550\tbest: 0.2776142 (4406)\ttotal: 4m 24s\tremaining: 4m 23s\n",
      "6000:\tlearn: 0.2164278\ttest: 0.2784245\tbest: 0.2776142 (4406)\ttotal: 5m 17s\tremaining: 3m 31s\n",
      "7000:\tlearn: 0.2098003\ttest: 0.2791545\tbest: 0.2776142 (4406)\ttotal: 6m 10s\tremaining: 2m 38s\n",
      "8000:\tlearn: 0.2045292\ttest: 0.2794939\tbest: 0.2776142 (4406)\ttotal: 7m 4s\tremaining: 1m 45s\n",
      "9000:\tlearn: 0.1995535\ttest: 0.2799276\tbest: 0.2776142 (4406)\ttotal: 7m 57s\tremaining: 53s\n",
      "9999:\tlearn: 0.1947185\ttest: 0.2802802\tbest: 0.2776142 (4406)\ttotal: 8m 50s\tremaining: 0us\n",
      "\n",
      "bestTest = 0.2776141933\n",
      "bestIteration = 4406\n",
      "\n",
      "Shrink model to first 4407 iterations.\n",
      "The R-Squared value: 0.8353\n",
      "Mean Squared Error: 0.0837\n",
      "Root Mean Squared Error: 0.2891\n",
      "Root Mean Squared Log Error: 0.0515\n"
     ]
    }
   ],
   "source": [
    "pred_60= run_CB(train_new.drop(['price'], axis= 1), train_new['price'], test_new.drop(['price'], axis= 1))"
   ]
  },
  {
   "cell_type": "code",
   "execution_count": 124,
   "metadata": {},
   "outputs": [],
   "source": [
    "samp_23= samp"
   ]
  },
  {
   "cell_type": "code",
   "execution_count": 125,
   "metadata": {},
   "outputs": [],
   "source": [
    "samp_23['price']= np.exp(pred_60)"
   ]
  },
  {
   "cell_type": "code",
   "execution_count": 126,
   "metadata": {},
   "outputs": [],
   "source": [
    "samp_23.to_excel('sample_23.xlsx', index= False)"
   ]
  }
 ],
 "metadata": {
  "kernelspec": {
   "display_name": "Python 3",
   "language": "python",
   "name": "python3"
  },
  "language_info": {
   "codemirror_mode": {
    "name": "ipython",
    "version": 3
   },
   "file_extension": ".py",
   "mimetype": "text/x-python",
   "name": "python",
   "nbconvert_exporter": "python",
   "pygments_lexer": "ipython3",
   "version": "3.6.6"
  }
 },
 "nbformat": 4,
 "nbformat_minor": 2
}
